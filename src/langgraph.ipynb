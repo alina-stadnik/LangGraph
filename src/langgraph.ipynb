{
 "cells": [
  {
   "cell_type": "code",
   "execution_count": 1,
   "metadata": {},
   "outputs": [
    {
     "data": {
      "text/plain": [
       "True"
      ]
     },
     "execution_count": 1,
     "metadata": {},
     "output_type": "execute_result"
    }
   ],
   "source": [
    "from dotenv import load_dotenv\n",
    "\n",
    "load_dotenv()"
   ]
  },
  {
   "cell_type": "markdown",
   "metadata": {},
   "source": [
    "## Nodes & Edges\n",
    "\n",
    "Nodes and Edges represent fundamental concepts for constructing and navigating a graph-based system for processing natural language.\n",
    "\n",
    "- **Nodes** represent discrete entities or units of information. In LangGraph, they often correspond to linguistic constructs such as words, sentences, phrases, or even abstract ideas depending on the context of the application.\n",
    "    - Function/Runnable.\n",
    "- **Edges** represent relationships or interactions between nodes. These can be directed or undirected, weighted or unweighted, based on the type of relationship they model."
   ]
  },
  {
   "cell_type": "code",
   "execution_count": null,
   "metadata": {},
   "outputs": [],
   "source": [
    "from langchain_core.messages import HumanMessage  # Handles human-like message structures\n",
    "from langgraph.graph import END, MessageGraph  # MessageGraph creates the graph, END marks a terminal node\n",
    "import time  # Used to simulate a delay in processing\n",
    "\n",
    "# Define a function that modifies the input list of HumanMessage objects\n",
    "def add_one(input: list[HumanMessage]):\n",
    "    \"\"\"\n",
    "    Appends 'a' to the content of the first HumanMessage in the list.\n",
    "    Introduces a 1-second delay to simulate a time-consuming operation.\n",
    "    \"\"\"\n",
    "    input[0].content = input[0].content + \"a\"\n",
    "    time.sleep(1)\n",
    "    return input\n",
    "\n",
    "# Create a MessageGraph object to define the flow of message processing\n",
    "graph = MessageGraph()\n",
    "\n",
    "# Add the first node, \"branch_a\", which processes messages using the `add_one` function\n",
    "graph.add_node(\"branch_a\", add_one)\n",
    "\n",
    "# Define the edges from \"branch_a\" to two parallel branches: \"branch_b\" and \"branch_c\"\n",
    "graph.add_edge(\"branch_a\", \"branch_b\")\n",
    "graph.add_edge(\"branch_a\", \"branch_c\")\n",
    "\n",
    "# Add processing nodes for the branches, both using the `add_one` function\n",
    "graph.add_node(\"branch_b\", add_one)\n",
    "graph.add_node(\"branch_c\", add_one)\n",
    "\n",
    "# Define edges from \"branch_b\" and \"branch_c\" that merge into a \"final_node\"\n",
    "graph.add_edge(\"branch_b\", \"final_node\")\n",
    "graph.add_edge(\"branch_c\", \"final_node\")\n",
    "\n",
    "# Add a processing node for the \"final_node\" and connect it to the END\n",
    "graph.add_node(\"final_node\", add_one)\n",
    "graph.add_edge(\"final_node\", END)  # Marks the end of the graph processing\n",
    "\n",
    "# Set the entry point for the graph as \"branch_a\"\n",
    "graph.set_entry_point(\"branch_a\")\n",
    "\n",
    "# Compile the graph into a runnable object\n",
    "# This prepares the graph for execution and ensures the structure is ready for processing\n",
    "runnable = graph.compile()"
   ]
  },
  {
   "cell_type": "code",
   "execution_count": 3,
   "metadata": {},
   "outputs": [
    {
     "data": {
      "image/png": "[encoded data removed]",
      "text/plain": [
       "<IPython.core.display.Image object>"
      ]
     },
     "metadata": {},
     "output_type": "display_data"
    }
   ],
   "source": [
    "from IPython.display import Image, display\n",
    "\n",
    "display(Image(runnable.get_graph().draw_mermaid_png()))"
   ]
  },
  {
   "cell_type": "code",
   "execution_count": null,
   "metadata": {},
   "outputs": [
    {
     "data": {
      "text/plain": [
       "[HumanMessage(content='aaaaa', additional_kwargs={}, response_metadata={}, id='91d60310-f0b4-4595-9f08-1246c18bb964')]"
      ]
     },
     "execution_count": 4,
     "metadata": {},
     "output_type": "execute_result"
    }
   ],
   "source": [
    "runnable.invoke(\"a\") # it starts with a single 'a' and then add another 'a' in branch_b,c and final_node - total if 5 as"
   ]
  },
  {
   "cell_type": "markdown",
   "metadata": {},
   "source": [
    "## Conditional Edges\n",
    "\n",
    "In LangGraph, conditional edges allow dynamic decision-making within a graph based on specific conditions or criteria. Instead of processing all edges indiscriminately, conditional edges enable the graph to route messages selectively to the next node(s) depending on the evaluation of conditions.\n",
    "\n",
    "- The condition is typically a function that evaluates the message or output of a node and determines the path to take.\n",
    "- Each conditional edge is associated with a function that evaluates a boolean condition."
   ]
  },
  {
   "cell_type": "code",
   "execution_count": 25,
   "metadata": {},
   "outputs": [],
   "source": [
    "from langchain_core.messages import HumanMessage\n",
    "from langgraph.graph import END, MessageGraph\n",
    "\n",
    "# Define the entry function for the graph\n",
    "def entry(input: list[HumanMessage]):\n",
    "    \"\"\"\n",
    "    Entry point for the graph.\n",
    "    Simply returns the input as-is to be routed further.\n",
    "    \"\"\"\n",
    "    return input\n",
    "\n",
    "# Define a function for branch B\n",
    "def work_with_b(input: list[HumanMessage]):\n",
    "    \"\"\"\n",
    "    Processes the input if branch B is selected.\n",
    "    Prints a message indicating that branch B is being used.\n",
    "    \"\"\"\n",
    "    print(\"Using branch B\")\n",
    "    return input\n",
    "\n",
    "# Define a function for branch C\n",
    "def work_with_c(input: list[HumanMessage]):\n",
    "    \"\"\"\n",
    "    Processes the input if branch C is selected.\n",
    "    Prints a message indicating that branch C is being used.\n",
    "    \"\"\"\n",
    "    print(\"Using branch C\")\n",
    "    return input\n",
    "\n",
    "# Define a routing function to determine which branch to take\n",
    "def router(input: list[HumanMessage]):\n",
    "    \"\"\"\n",
    "    Determines the next branch based on the content of the input message.\n",
    "    Routes to \"branch_b\" if \"use_b\" is in the message content; otherwise, routes to \"branch_c\".\n",
    "    \"\"\"\n",
    "    if \"use_b\" in input[0].content:  # Check for specific keyword in message content\n",
    "        return \"branch_b\"\n",
    "    else:\n",
    "        return \"branch_c\"\n",
    "\n",
    "graph = MessageGraph()\n",
    "\n",
    "graph.add_node(\"branch_a\", entry)\n",
    "graph.add_node(\"branch_b\", work_with_b)\n",
    "graph.add_node(\"branch_c\", work_with_c)\n",
    "\n",
    "graph.add_conditional_edges(\n",
    "    \"branch_a\", router, {\"branch_b\": \"branch_b\", \"branch_c\": \"branch_c\"}\n",
    ")\n",
    "graph.add_edge(\"branch_b\", END)\n",
    "graph.add_edge(\"branch_c\", END)\n",
    "\n",
    "graph.set_entry_point(\"branch_a\")\n",
    "\n",
    "runnable = graph.compile()"
   ]
  },
  {
   "cell_type": "code",
   "execution_count": null,
   "metadata": {},
   "outputs": [
    {
     "data": {
      "image/png": "[encoded data removed]",
      "text/plain": [
       "<IPython.core.display.Image object>"
      ]
     },
     "metadata": {},
     "output_type": "display_data"
    }
   ],
   "source": [
    "display(Image(runnable.get_graph().draw_mermaid_png())) # dash line for conditional edge"
   ]
  },
  {
   "cell_type": "code",
   "execution_count": null,
   "metadata": {},
   "outputs": [
    {
     "name": "stdout",
     "output_type": "stream",
     "text": [
      "Using branch C\n"
     ]
    },
    {
     "data": {
      "text/plain": [
       "[HumanMessage(content='hello', additional_kwargs={}, response_metadata={}, id='b810b249-013b-473a-852a-e6ac6d70993f')]"
      ]
     },
     "execution_count": 7,
     "metadata": {},
     "output_type": "execute_result"
    }
   ],
   "source": [
    "runnable.invoke(\"hello\") # nothing was specified"
   ]
  },
  {
   "cell_type": "code",
   "execution_count": null,
   "metadata": {},
   "outputs": [
    {
     "name": "stdout",
     "output_type": "stream",
     "text": [
      "Using branch B\n"
     ]
    },
    {
     "data": {
      "text/plain": [
       "[HumanMessage(content='I want to use_b', additional_kwargs={}, response_metadata={}, id='c876a8a3-5586-4ef3-9295-c181b226de7d')]"
      ]
     },
     "execution_count": 31,
     "metadata": {},
     "output_type": "execute_result"
    }
   ],
   "source": [
    "runnable.invoke(\"I want to use_b\") # specific keyword in the context"
   ]
  },
  {
   "cell_type": "markdown",
   "metadata": {},
   "source": [
    "## Cycles\n",
    "\n",
    "A cycle in a graph occurs when a node can be revisited by following a path of edges starting from that node. Cycles can occur in both directed and undirected graphs, with specific considerations for each type."
   ]
  },
  {
   "cell_type": "code",
   "execution_count": 32,
   "metadata": {},
   "outputs": [],
   "source": [
    "from langchain_openai import ChatOpenAI\n",
    "from langchain_core.messages import HumanMessage\n",
    "from langgraph.graph import END, MessageGraph\n",
    "\n",
    "# Initialize a language model with a fixed temperature\n",
    "model = ChatOpenAI(temperature=0)\n",
    "\n",
    "# Entry point function for the workflow\n",
    "def entry(input: list[HumanMessage]):\n",
    "    # Simply passes the input messages as-is to the next node\n",
    "    return input\n",
    "\n",
    "# Action function to process input messages\n",
    "def action(input: list[HumanMessage]):\n",
    "    # Prints the current input messages' content\n",
    "    print(\"Action taken:\", [msg.content for msg in input])\n",
    "    # Checks if the message count exceeds 5\n",
    "    if len(input) > 5:\n",
    "        # Adds a message indicating the end of the process\n",
    "        input.append(HumanMessage(content=\"end\"))\n",
    "    else:\n",
    "        # Adds a message indicating the process should continue\n",
    "        input.append(HumanMessage(content=\"continue\"))\n",
    "    return input\n",
    "\n",
    "# Conditional function to determine the next step in the workflow\n",
    "def should_continue(input: list):\n",
    "    # Checks the content of the last message\n",
    "    last_message = input[-1]\n",
    "    # If the last message contains \"end\", return the \"__end__\" signal to terminate the workflow\n",
    "    if \"end\" in last_message.content:\n",
    "        return \"__end__\"\n",
    "    # Otherwise, return the \"action\" node to continue processing\n",
    "    return \"action\"\n",
    "\n",
    "graph = MessageGraph()\n",
    "\n",
    "graph.add_node(\"agent\", entry)\n",
    "graph.add_node(\"action\", action)\n",
    "\n",
    "graph.add_conditional_edges(\n",
    "    \"agent\", should_continue, {\"action\": \"action\", \"__end__\": END}\n",
    ")\n",
    "graph.add_edge(\"action\", \"agent\")\n",
    "\n",
    "graph.set_entry_point(\"agent\")\n",
    "\n",
    "runnable = graph.compile()"
   ]
  },
  {
   "cell_type": "code",
   "execution_count": 10,
   "metadata": {},
   "outputs": [
    {
     "data": {
      "image/png": "[encoded data removed]",
      "text/plain": [
       "<IPython.core.display.Image object>"
      ]
     },
     "metadata": {},
     "output_type": "display_data"
    }
   ],
   "source": [
    "display(Image(runnable.get_graph().draw_mermaid_png()))"
   ]
  },
  {
   "cell_type": "code",
   "execution_count": null,
   "metadata": {},
   "outputs": [
    {
     "name": "stdout",
     "output_type": "stream",
     "text": [
      "Action taken: ['Hello']\n",
      "Action taken: ['Hello', 'continue']\n",
      "Action taken: ['Hello', 'continue', 'continue']\n",
      "Action taken: ['Hello', 'continue', 'continue', 'continue']\n",
      "Action taken: ['Hello', 'continue', 'continue', 'continue', 'continue']\n",
      "Action taken: ['Hello', 'continue', 'continue', 'continue', 'continue', 'continue']\n"
     ]
    },
    {
     "data": {
      "text/plain": [
       "[HumanMessage(content='Hello', additional_kwargs={}, response_metadata={}, id='421cbced-9187-4745-965a-2898d06c26a0'),\n",
       " HumanMessage(content='continue', additional_kwargs={}, response_metadata={}, id='26c4806b-6a9b-4894-a007-037c9e4e85a5'),\n",
       " HumanMessage(content='continue', additional_kwargs={}, response_metadata={}, id='d5888293-4e95-4460-b83f-1f9a097ec08e'),\n",
       " HumanMessage(content='continue', additional_kwargs={}, response_metadata={}, id='bc595967-21b3-4c92-96d2-8f65004f7cdd'),\n",
       " HumanMessage(content='continue', additional_kwargs={}, response_metadata={}, id='4333a602-dd06-4fed-9b62-7b8e532473e1'),\n",
       " HumanMessage(content='continue', additional_kwargs={}, response_metadata={}, id='63a80359-a33e-4dfc-9509-87d292bf3ef4'),\n",
       " HumanMessage(content='end', additional_kwargs={}, response_metadata={}, id='8eb054fc-23f6-4401-995e-a1b84a79f132')]"
      ]
     },
     "execution_count": 33,
     "metadata": {},
     "output_type": "execute_result"
    }
   ],
   "source": [
    "runnable.invoke(\"Hello\") # 5 times until get 'end' i the last function should_continue"
   ]
  },
  {
   "cell_type": "markdown",
   "metadata": {},
   "source": [
    "## Real Agent - Creating an Agent that actually does something:"
   ]
  },
  {
   "cell_type": "code",
   "execution_count": null,
   "metadata": {},
   "outputs": [],
   "source": [
    "from langchain_openai import ChatOpenAI\n",
    "\n",
    "# Initialize the model with temperature set to 0 for deterministic output\n",
    "model = ChatOpenAI(temperature=0)"
   ]
  },
  {
   "cell_type": "code",
   "execution_count": null,
   "metadata": {},
   "outputs": [],
   "source": [
    "from typing import TypedDict, Annotated, Sequence\n",
    "import operator\n",
    "from langchain_core.messages import BaseMessage\n",
    "\n",
    "# Define the structure of the agent state, including a list of messages and a counter for API calls\n",
    "class AgentState(TypedDict):\n",
    "    messages: Annotated[Sequence[BaseMessage], operator.add] # Sequence of messages, supporting addition\n",
    "    api_call_count: int = 0 # Initialize API call count to 0"
   ]
  },
  {
   "cell_type": "code",
   "execution_count": null,
   "metadata": {},
   "outputs": [],
   "source": [
    "from langchain_core.tools import tool\n",
    "import random\n",
    "\n",
    "# Define a tool function that simulates checking the weather in a specified city\n",
    "@tool\n",
    "def fake_weather_api(city: str) -> str:\n",
    "    \"\"\"Check the weather in a specified city. The API is available randomly, approximately every third call.\"\"\"\n",
    "\n",
    "    # Simulate a chance-based response: 1 in 3 calls will succeed\n",
    "    if random.randint(1, 3) == 1:  # Approximately one-third chance\n",
    "        return \"Sunny, 22°C\"\n",
    "    else:\n",
    "        return \"Service temporarily unavailable\""
   ]
  },
  {
   "cell_type": "code",
   "execution_count": null,
   "metadata": {},
   "outputs": [
    {
     "name": "stdout",
     "output_type": "stream",
     "text": [
      "Service temporarily unavailable\n",
      "Sunny, 22°C\n",
      "Sunny, 22°C\n",
      "Sunny, 22°C\n"
     ]
    }
   ],
   "source": [
    "# Test the fake weather API for multiple cities\n",
    "print(fake_weather_api(\"New York\"))\n",
    "print(fake_weather_api(\"London\")) \n",
    "print(fake_weather_api(\"Berlin\"))\n",
    "print(fake_weather_api(\"Curitiba\"))"
   ]
  },
  {
   "cell_type": "code",
   "execution_count": null,
   "metadata": {},
   "outputs": [],
   "source": [
    "# Bind the tool (fake_weather_api) to the model\n",
    "llm_with_tools = model.bind_tools([fake_weather_api])"
   ]
  },
  {
   "cell_type": "code",
   "execution_count": null,
   "metadata": {},
   "outputs": [
    {
     "name": "stdout",
     "output_type": "stream",
     "text": [
      "[HumanMessage(content='How will the weather be in munich today? I would like to eat outside if possible', additional_kwargs={}, response_metadata={}), AIMessage(content='', additional_kwargs={'tool_calls': [{'id': 'call_lN0yOFXMXSz9algkHZ1v4gYA', 'function': {'arguments': '{\"city\":\"Munich\"}', 'name': 'fake_weather_api'}, 'type': 'function'}], 'refusal': None}, response_metadata={'token_usage': {'completion_tokens': 17, 'prompt_tokens': 76, 'total_tokens': 93, 'completion_tokens_details': {'accepted_prediction_tokens': 0, 'audio_tokens': 0, 'reasoning_tokens': 0, 'rejected_prediction_tokens': 0}, 'prompt_tokens_details': {'audio_tokens': 0, 'cached_tokens': 0}}, 'model_name': 'gpt-3.5-turbo-0125', 'system_fingerprint': None, 'finish_reason': 'tool_calls', 'logprobs': None}, id='run-96c399ad-a9bd-40fe-b770-05af047ebdc0-0', tool_calls=[{'name': 'fake_weather_api', 'args': {'city': 'Munich'}, 'id': 'call_lN0yOFXMXSz9algkHZ1v4gYA', 'type': 'tool_call'}], usage_metadata={'input_tokens': 76, 'output_tokens': 17, 'total_tokens': 93, 'input_token_details': {'audio': 0, 'cache_read': 0}, 'output_token_details': {'audio': 0, 'reasoning': 0}})]\n"
     ]
    }
   ],
   "source": [
    "from langchain_core.messages import HumanMessage, ToolMessage\n",
    "\n",
    "# Define a tool mapping for the registered tools\n",
    "tool_mapping = {\"fake_weather_api\": fake_weather_api}\n",
    "\n",
    "# Initialize messages with a human query about the weather\n",
    "messages = [\n",
    "    HumanMessage(\n",
    "        \"How will the weather be in munich today? I would like to eat outside if possible\"\n",
    "    )\n",
    "]\n",
    "\n",
    "# Invoke the LLM model with the tools and capture the output\n",
    "llm_output = llm_with_tools.invoke(messages)\n",
    "messages.append(llm_output)# Append the LLM's response to the messages list\n",
    "print(messages)"
   ]
  },
  {
   "cell_type": "code",
   "execution_count": null,
   "metadata": {},
   "outputs": [
    {
     "data": {
      "text/plain": [
       "AIMessage(content='The weather in Munich today is sunny with a temperature of 22°C. It looks like a great day to eat outside! Enjoy your meal!', additional_kwargs={'refusal': None}, response_metadata={'token_usage': {'completion_tokens': 30, 'prompt_tokens': 108, 'total_tokens': 138, 'completion_tokens_details': {'accepted_prediction_tokens': 0, 'audio_tokens': 0, 'reasoning_tokens': 0, 'rejected_prediction_tokens': 0}, 'prompt_tokens_details': {'audio_tokens': 0, 'cached_tokens': 0}}, 'model_name': 'gpt-3.5-turbo-0125', 'system_fingerprint': None, 'finish_reason': 'stop', 'logprobs': None}, id='run-de4f8bac-bc49-4c2c-b693-b654fa42e51b-0', usage_metadata={'input_tokens': 108, 'output_tokens': 30, 'total_tokens': 138, 'input_token_details': {'audio': 0, 'cache_read': 0}, 'output_token_details': {'audio': 0, 'reasoning': 0}})"
      ]
     },
     "execution_count": 18,
     "metadata": {},
     "output_type": "execute_result"
    }
   ],
   "source": [
    "# Iterate over each tool call in the LLMs output to simulate executing the tool and appending its response\n",
    "for tool_call in llm_output.tool_calls:\n",
    "    # Retrieve the tool from the mapping and invoke it with the provided arguments\n",
    "    tool = tool_mapping[tool_call[\"name\"].lower()]\n",
    "    tool_output = tool.invoke(tool_call[\"args\"])\n",
    "    messages.append(ToolMessage(content=tool_output, tool_call_id=tool_call[\"id\"]))\n",
    "\n",
    "# Re-invoke the model with the updated messages (after tool output)\n",
    "llm_with_tools.invoke(messages)"
   ]
  },
  {
   "cell_type": "code",
   "execution_count": null,
   "metadata": {},
   "outputs": [],
   "source": [
    "# Define the conditional function to determine if the agent should continue or end\n",
    "def should_continue(state: AgentState):\n",
    "    print(\"STATE:\", state)\n",
    "    messages = state[\"messages\"]\n",
    "    last_message = messages[-1]\n",
    "    # If there are no tool calls in the last message, the process should end\n",
    "    if not last_message.tool_calls:\n",
    "        return \"end\"\n",
    "    else:\n",
    "        return \"continue\"\n",
    "\n",
    "# Define the function to invoke the model with the current state and return updated state\n",
    "def call_model(state: AgentState):\n",
    "    messages = state[\"messages\"]\n",
    "    # Invoke the model with the messages and return the response as the new messages\n",
    "    response = llm_with_tools.invoke(messages)\n",
    "    return {\"messages\": [response], \"api_call_count\": state[\"api_call_count\"]}\n",
    "\n",
    "# Define the function to invoke the tool based on the last message's tool call\n",
    "def call_tool(state: AgentState):\n",
    "    messages = state[\"messages\"]\n",
    "    last_message = messages[-1]\n",
    "    tool_call = last_message.tool_calls[0]  # Assume there is at least one tool call\n",
    "    tool = tool_mapping[tool_call[\"name\"].lower()]  # Get the tool from the mapping\n",
    "    tool_output = tool.invoke(tool_call[\"args\"])  # Invoke the tool with the arguments\n",
    "    state[\"api_call_count\"] += 1  # Increment the API call counter\n",
    "    print(\"Tool output:\", tool_output)\n",
    "    print(\"API call count after this tool call:\", state[\"api_call_count\"])\n",
    "    # Create a ToolMessage to store the tool's output and return the updated state\n",
    "    tool_message = ToolMessage(content=tool_output, tool_call_id=tool_call[\"id\"])\n",
    "    return {\"messages\": [tool_message], \"api_call_count\": state[\"api_call_count\"]}\n"
   ]
  },
  {
   "cell_type": "code",
   "execution_count": null,
   "metadata": {},
   "outputs": [],
   "source": [
    "from langgraph.graph import StateGraph, END\n",
    "\n",
    "# Initialize a StateGraph to model the agent's workflow, passing the state schema (AgentState)\n",
    "workflow = StateGraph(AgentState)\n",
    "\n",
    "# Add nodes for calling the model and calling the tool (actions performed in the workflow)\n",
    "workflow.add_node(\"agent\", call_model)\n",
    "workflow.add_node(\"action\", call_tool)\n",
    "\n",
    "# Set the initial entry point of the workflow to the \"agent\" node\n",
    "workflow.set_entry_point(\"agent\")\n",
    "\n",
    "# Add conditional edges to define the next steps: either continue with the tool or end the workflow\n",
    "workflow.add_conditional_edges(\n",
    "    \"agent\",              # From \"agent\" node\n",
    "    should_continue,      # Conditional function to evaluate if the agent should continue or end\n",
    "    {\n",
    "        \"continue\": \"action\",  # If should_continue returns \"continue\", go to the \"action\" node\n",
    "        \"end\": END,            # If should_continue returns \"end\", terminate the workflow\n",
    "    },\n",
    ")\n",
    "\n",
    "# Add an edge from the \"action\" node back to the \"agent\" node to allow repeated actions\n",
    "workflow.add_edge(\"action\", \"agent\")\n",
    "\n",
    "# Set the entry point again to ensure it starts from the \"agent\" node\n",
    "workflow.set_entry_point(\"agent\")\n",
    "\n",
    "# Compile the workflow into a runnable app\n",
    "app = workflow.compile()"
   ]
  },
  {
   "cell_type": "code",
   "execution_count": 21,
   "metadata": {},
   "outputs": [
    {
     "data": {
      "image/png": "[encoded data removed]",
      "text/plain": [
       "<IPython.core.display.Image object>"
      ]
     },
     "metadata": {},
     "output_type": "display_data"
    }
   ],
   "source": [
    "from IPython.display import Image, display\n",
    "\n",
    "try:\n",
    "    display(Image(app.get_graph(xray=True).draw_mermaid_png()))\n",
    "except:\n",
    "    pass"
   ]
  },
  {
   "cell_type": "code",
   "execution_count": null,
   "metadata": {},
   "outputs": [
    {
     "name": "stdout",
     "output_type": "stream",
     "text": [
      "STATE: {'messages': [SystemMessage(content='You are responsible for answering user questions. You use tools for that, These tools sometimes fail and you are very resilient and trying them again', additional_kwargs={}, response_metadata={}), HumanMessage(content='How is the weather in munich today?', additional_kwargs={}, response_metadata={}), AIMessage(content='', additional_kwargs={'tool_calls': [{'id': 'call_uXWxGNCCKYsvnJpyT85x2Q9F', 'function': {'arguments': '{\"city\":\"Munich\"}', 'name': 'fake_weather_api'}, 'type': 'function'}], 'refusal': None}, response_metadata={'token_usage': {'completion_tokens': 17, 'prompt_tokens': 95, 'total_tokens': 112, 'completion_tokens_details': {'accepted_prediction_tokens': 0, 'audio_tokens': 0, 'reasoning_tokens': 0, 'rejected_prediction_tokens': 0}, 'prompt_tokens_details': {'audio_tokens': 0, 'cached_tokens': 0}}, 'model_name': 'gpt-3.5-turbo-0125', 'system_fingerprint': None, 'finish_reason': 'tool_calls', 'logprobs': None}, id='run-623a5b55-af2d-4dbb-9f77-520503f6a468-0', tool_calls=[{'name': 'fake_weather_api', 'args': {'city': 'Munich'}, 'id': 'call_uXWxGNCCKYsvnJpyT85x2Q9F', 'type': 'tool_call'}], usage_metadata={'input_tokens': 95, 'output_tokens': 17, 'total_tokens': 112, 'input_token_details': {'audio': 0, 'cache_read': 0}, 'output_token_details': {'audio': 0, 'reasoning': 0}})], 'api_call_count': 0}\n",
      "Tool output: Service temporarily unavailable\n",
      "API call count after this tool call: 1\n",
      "STATE: {'messages': [SystemMessage(content='You are responsible for answering user questions. You use tools for that, These tools sometimes fail and you are very resilient and trying them again', additional_kwargs={}, response_metadata={}), HumanMessage(content='How is the weather in munich today?', additional_kwargs={}, response_metadata={}), AIMessage(content='', additional_kwargs={'tool_calls': [{'id': 'call_uXWxGNCCKYsvnJpyT85x2Q9F', 'function': {'arguments': '{\"city\":\"Munich\"}', 'name': 'fake_weather_api'}, 'type': 'function'}], 'refusal': None}, response_metadata={'token_usage': {'completion_tokens': 17, 'prompt_tokens': 95, 'total_tokens': 112, 'completion_tokens_details': {'accepted_prediction_tokens': 0, 'audio_tokens': 0, 'reasoning_tokens': 0, 'rejected_prediction_tokens': 0}, 'prompt_tokens_details': {'audio_tokens': 0, 'cached_tokens': 0}}, 'model_name': 'gpt-3.5-turbo-0125', 'system_fingerprint': None, 'finish_reason': 'tool_calls', 'logprobs': None}, id='run-623a5b55-af2d-4dbb-9f77-520503f6a468-0', tool_calls=[{'name': 'fake_weather_api', 'args': {'city': 'Munich'}, 'id': 'call_uXWxGNCCKYsvnJpyT85x2Q9F', 'type': 'tool_call'}], usage_metadata={'input_tokens': 95, 'output_tokens': 17, 'total_tokens': 112, 'input_token_details': {'audio': 0, 'cache_read': 0}, 'output_token_details': {'audio': 0, 'reasoning': 0}}), ToolMessage(content='Service temporarily unavailable', tool_call_id='call_uXWxGNCCKYsvnJpyT85x2Q9F'), AIMessage(content='', additional_kwargs={'tool_calls': [{'id': 'call_4kfMyWs2HEgURZ9aLbIMTk0C', 'function': {'arguments': '{\"city\":\"Munich\"}', 'name': 'fake_weather_api'}, 'type': 'function'}], 'refusal': None}, response_metadata={'token_usage': {'completion_tokens': 17, 'prompt_tokens': 124, 'total_tokens': 141, 'completion_tokens_details': {'accepted_prediction_tokens': 0, 'audio_tokens': 0, 'reasoning_tokens': 0, 'rejected_prediction_tokens': 0}, 'prompt_tokens_details': {'audio_tokens': 0, 'cached_tokens': 0}}, 'model_name': 'gpt-3.5-turbo-0125', 'system_fingerprint': None, 'finish_reason': 'tool_calls', 'logprobs': None}, id='run-cabb3dc4-be3c-4658-8608-d109e6e361ce-0', tool_calls=[{'name': 'fake_weather_api', 'args': {'city': 'Munich'}, 'id': 'call_4kfMyWs2HEgURZ9aLbIMTk0C', 'type': 'tool_call'}], usage_metadata={'input_tokens': 124, 'output_tokens': 17, 'total_tokens': 141, 'input_token_details': {'audio': 0, 'cache_read': 0}, 'output_token_details': {'audio': 0, 'reasoning': 0}})], 'api_call_count': 1}\n",
      "Tool output: Sunny, 22°C\n",
      "API call count after this tool call: 2\n",
      "STATE: {'messages': [SystemMessage(content='You are responsible for answering user questions. You use tools for that, These tools sometimes fail and you are very resilient and trying them again', additional_kwargs={}, response_metadata={}), HumanMessage(content='How is the weather in munich today?', additional_kwargs={}, response_metadata={}), AIMessage(content='', additional_kwargs={'tool_calls': [{'id': 'call_uXWxGNCCKYsvnJpyT85x2Q9F', 'function': {'arguments': '{\"city\":\"Munich\"}', 'name': 'fake_weather_api'}, 'type': 'function'}], 'refusal': None}, response_metadata={'token_usage': {'completion_tokens': 17, 'prompt_tokens': 95, 'total_tokens': 112, 'completion_tokens_details': {'accepted_prediction_tokens': 0, 'audio_tokens': 0, 'reasoning_tokens': 0, 'rejected_prediction_tokens': 0}, 'prompt_tokens_details': {'audio_tokens': 0, 'cached_tokens': 0}}, 'model_name': 'gpt-3.5-turbo-0125', 'system_fingerprint': None, 'finish_reason': 'tool_calls', 'logprobs': None}, id='run-623a5b55-af2d-4dbb-9f77-520503f6a468-0', tool_calls=[{'name': 'fake_weather_api', 'args': {'city': 'Munich'}, 'id': 'call_uXWxGNCCKYsvnJpyT85x2Q9F', 'type': 'tool_call'}], usage_metadata={'input_tokens': 95, 'output_tokens': 17, 'total_tokens': 112, 'input_token_details': {'audio': 0, 'cache_read': 0}, 'output_token_details': {'audio': 0, 'reasoning': 0}}), ToolMessage(content='Service temporarily unavailable', tool_call_id='call_uXWxGNCCKYsvnJpyT85x2Q9F'), AIMessage(content='', additional_kwargs={'tool_calls': [{'id': 'call_4kfMyWs2HEgURZ9aLbIMTk0C', 'function': {'arguments': '{\"city\":\"Munich\"}', 'name': 'fake_weather_api'}, 'type': 'function'}], 'refusal': None}, response_metadata={'token_usage': {'completion_tokens': 17, 'prompt_tokens': 124, 'total_tokens': 141, 'completion_tokens_details': {'accepted_prediction_tokens': 0, 'audio_tokens': 0, 'reasoning_tokens': 0, 'rejected_prediction_tokens': 0}, 'prompt_tokens_details': {'audio_tokens': 0, 'cached_tokens': 0}}, 'model_name': 'gpt-3.5-turbo-0125', 'system_fingerprint': None, 'finish_reason': 'tool_calls', 'logprobs': None}, id='run-cabb3dc4-be3c-4658-8608-d109e6e361ce-0', tool_calls=[{'name': 'fake_weather_api', 'args': {'city': 'Munich'}, 'id': 'call_4kfMyWs2HEgURZ9aLbIMTk0C', 'type': 'tool_call'}], usage_metadata={'input_tokens': 124, 'output_tokens': 17, 'total_tokens': 141, 'input_token_details': {'audio': 0, 'cache_read': 0}, 'output_token_details': {'audio': 0, 'reasoning': 0}}), ToolMessage(content='Sunny, 22°C', tool_call_id='call_4kfMyWs2HEgURZ9aLbIMTk0C'), AIMessage(content='The weather in Munich today is sunny with a temperature of 22°C.', additional_kwargs={'refusal': None}, response_metadata={'token_usage': {'completion_tokens': 16, 'prompt_tokens': 156, 'total_tokens': 172, 'completion_tokens_details': {'accepted_prediction_tokens': 0, 'audio_tokens': 0, 'reasoning_tokens': 0, 'rejected_prediction_tokens': 0}, 'prompt_tokens_details': {'audio_tokens': 0, 'cached_tokens': 0}}, 'model_name': 'gpt-3.5-turbo-0125', 'system_fingerprint': None, 'finish_reason': 'stop', 'logprobs': None}, id='run-fa96aaca-c852-4c5c-86e9-19b93a7e08f7-0', usage_metadata={'input_tokens': 156, 'output_tokens': 16, 'total_tokens': 172, 'input_token_details': {'audio': 0, 'cache_read': 0}, 'output_token_details': {'audio': 0, 'reasoning': 0}})], 'api_call_count': 2}\n"
     ]
    }
   ],
   "source": [
    "from langchain_core.messages import SystemMessage\n",
    "\n",
    "# Create a system message that sets the context for the agent's behavior\n",
    "# The system message tells the agent that it is responsible for answering user questions \n",
    "# and should use tools for that purpose, even if the tools sometimes fail.\n",
    "system_message = SystemMessage(\n",
    "    content=\"You are responsible for answering user questions. You use tools for that, These tools sometimes fail and you are very resilient and trying them again\"\n",
    ")\n",
    "# Create a human message where the user is asking about the weather in Munich\n",
    "human_message = HumanMessage(content=\"How is the weather in munich today?\")\n",
    "# Combine both system and human messages into a list, which will serve as the input to the agent\n",
    "messages = [system_message, human_message]\n",
    "\n",
    "# Invoke the app (which represents the workflow we previously compiled), passing the messages and an initial api_call_count of 0\n",
    "# The app processes these messages and keeps track of the API call count in the state\n",
    "result = app.invoke({\"messages\": messages, \"api_call_count\": 0})"
   ]
  },
  {
   "cell_type": "code",
   "execution_count": null,
   "metadata": {},
   "outputs": [
    {
     "name": "stdout",
     "output_type": "stream",
     "text": [
      "The weather in Munich today is sunny with a temperature of 22°C.\n",
      "2\n"
     ]
    }
   ],
   "source": [
    "# Print the content of the last message in the result, which should be the agent's response to the user's query\n",
    "print(result[\"messages\"][-1].content)\n",
    "\n",
    "# Print the total API call count after processing the messages\n",
    "# This will give us the number of times the tools (such as the weather API) were invoked\n",
    "print(result[\"api_call_count\"])"
   ]
  }
 ],
 "metadata": {
  "kernelspec": {
   "display_name": "support-gpu",
   "language": "python",
   "name": "python3"
  },
  "language_info": {
   "codemirror_mode": {
    "name": "ipython",
    "version": 3
   },
   "file_extension": ".py",
   "mimetype": "text/x-python",
   "name": "python",
   "nbconvert_exporter": "python",
   "pygments_lexer": "ipython3",
   "version": "3.10.13"
  }
 },
 "nbformat": 4,
 "nbformat_minor": 2
}
